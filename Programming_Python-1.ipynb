{
 "cells": [
  {
   "cell_type": "code",
   "execution_count": 2,
   "id": "ba6f2039",
   "metadata": {},
   "outputs": [
    {
     "name": "stdout",
     "output_type": "stream",
     "text": [
      "Hello Python\n"
     ]
    }
   ],
   "source": [
    "# 1. Write a Python program to print \"Hello Python\"?\n",
    "print(\"Hello Python\")"
   ]
  },
  {
   "cell_type": "code",
   "execution_count": 7,
   "id": "89a118d1",
   "metadata": {},
   "outputs": [
    {
     "name": "stdout",
     "output_type": "stream",
     "text": [
      "enter num1 : 5\n",
      "enter num2 : 0\n",
      "Sum is:  5\n",
      "Cannnot divide by zero, Enter value other than 0\n"
     ]
    }
   ],
   "source": [
    "# 2. Write a Python program to do arithmetical operations addition and division.?\n",
    "a = int(input(\"enter num1 : \"))\n",
    "b = int(input(\"enter num2 : \"))\n",
    "print(\"Sum is: \",(a+b))\n",
    "if(b == 0):\n",
    "    print(\"Cannnot divide by zero, Enter value other than 0\")\n",
    "else:\n",
    "    print(\"Division is: \", a//b)"
   ]
  },
  {
   "cell_type": "code",
   "execution_count": 8,
   "id": "606d0bdb",
   "metadata": {},
   "outputs": [
    {
     "name": "stdout",
     "output_type": "stream",
     "text": [
      "enter base : 10\n",
      "enter height : 7\n",
      "Area is :  35.0\n"
     ]
    }
   ],
   "source": [
    "# 3. Write a Python program to find the area of a triangle?\n",
    "b = int(input(\"enter base : \"))\n",
    "h = int(input(\"enter height : \"))\n",
    "area = (b*h)/2\n",
    "print(\"Area is : \", area)"
   ]
  },
  {
   "cell_type": "code",
   "execution_count": 14,
   "id": "845dc191",
   "metadata": {},
   "outputs": [
    {
     "name": "stdout",
     "output_type": "stream",
     "text": [
      "enter num1 : 5\n",
      "enter num2 : 3\n",
      "a is : 3 \n",
      "b is : 5\n"
     ]
    }
   ],
   "source": [
    "#4. Write a Python program to swap two variables?\n",
    "a = int(input(\"enter num1 : \"))\n",
    "b = int(input(\"enter num2 : \"))\n",
    "a, b = b, a\n",
    "print(\"a is :\",a, \"\\nb is :\",b)\n",
    "\n",
    "#Other approach \n",
    "temp = a\n",
    "a = b \n",
    "b =temp"
   ]
  },
  {
   "cell_type": "code",
   "execution_count": 18,
   "id": "f4703064",
   "metadata": {},
   "outputs": [
    {
     "name": "stdout",
     "output_type": "stream",
     "text": [
      "6\n"
     ]
    }
   ],
   "source": [
    "#5. Write a Python program to generate a random number?\n",
    "import random\n",
    "\n",
    "print(random.randint(1,10))"
   ]
  }
 ],
 "metadata": {
  "kernelspec": {
   "display_name": "Python 3 (ipykernel)",
   "language": "python",
   "name": "python3"
  },
  "language_info": {
   "codemirror_mode": {
    "name": "ipython",
    "version": 3
   },
   "file_extension": ".py",
   "mimetype": "text/x-python",
   "name": "python",
   "nbconvert_exporter": "python",
   "pygments_lexer": "ipython3",
   "version": "3.9.12"
  }
 },
 "nbformat": 4,
 "nbformat_minor": 5
}
