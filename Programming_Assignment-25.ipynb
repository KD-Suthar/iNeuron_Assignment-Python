{
 "cells": [
  {
   "cell_type": "code",
   "execution_count": 31,
   "id": "236f1b38",
   "metadata": {},
   "outputs": [
    {
     "name": "stdout",
     "output_type": "stream",
     "text": [
      "enter a: 1\n",
      "enter b: 6\n",
      "enter c: 6\n"
     ]
    },
    {
     "data": {
      "text/plain": [
       "2"
      ]
     },
     "execution_count": 31,
     "metadata": {},
     "output_type": "execute_result"
    }
   ],
   "source": [
    "# 1. Create a function that takes three integer arguments (a, b, c) and returns the amount of integers which are of equal value.\n",
    "\n",
    "def equal(a,b,c):\n",
    "    count = 0\n",
    "    n = 2\n",
    "    if(a == b and b == c ):\n",
    "        count += 3\n",
    "    elif(a == b or b == c or a ==c):\n",
    "        count += 2\n",
    "    \n",
    "    return count\n",
    "\n",
    "a = int(input(\"enter a: \"))\n",
    "b = int(input(\"enter b: \"))\n",
    "c = int(input(\"enter c: \"))\n",
    "equal(a,b,c)\n"
   ]
  },
  {
   "cell_type": "code",
   "execution_count": 14,
   "id": "3eebf192",
   "metadata": {},
   "outputs": [
    {
     "name": "stdout",
     "output_type": "stream",
     "text": [
      "[('B', 2), ('C', 3), ('D', 1)] \n",
      " [('dislike', 3), ('followers', 10), ('likes', 2)]\n"
     ]
    }
   ],
   "source": [
    "# 2. Write a function that converts a dictionary into a list of keys-values tuples.\n",
    "\n",
    "d = {\"D\":1,\"B\":2,\"C\":3}\n",
    "d1 = {\n",
    "    \"likes\": 2,\n",
    "    \"dislike\": 3,\n",
    "    \"followers\": 10\n",
    "}\n",
    "\n",
    "def dictToList(d):\n",
    "    l1 = []\n",
    "    for i in d:\n",
    "        k = i,d[i]\n",
    "        l1.append(k)\n",
    "    l1.sort()\n",
    "    return l1\n",
    "\n",
    "c = dictToList(d)\n",
    "d = dictToList(d1)\n",
    "print(c,\"\\n\",d)"
   ]
  },
  {
   "cell_type": "code",
   "execution_count": 49,
   "id": "ef299d49",
   "metadata": {},
   "outputs": [
    {
     "data": {
      "text/plain": [
       "{'a': 'A', 'b': 'B', 'c': 'C', 'd': 'D'}"
      ]
     },
     "execution_count": 49,
     "metadata": {},
     "output_type": "execute_result"
    }
   ],
   "source": [
    "# 3. Write a function that creates a dictionary with each (key, value) pair being the (lower case,upper case) versions of a letter, respectively.\n",
    "\n",
    "def mapping(l):\n",
    "    d = {}\n",
    "    for i in l:\n",
    "            d[i] = i.upper()\n",
    "    \n",
    "    return d\n",
    "\n",
    "x = [\"a\",\"b\",\"c\",\"d\"]\n",
    "mapping(x)\n",
    "        "
   ]
  },
  {
   "cell_type": "code",
   "execution_count": 59,
   "id": "800ff3f5",
   "metadata": {},
   "outputs": [
    {
     "name": "stdout",
     "output_type": "stream",
     "text": [
      "enter the string : cheese casserole\n",
      "enter ch to replace : o\n"
     ]
    },
    {
     "data": {
      "text/plain": [
       "'chooso cossorolo'"
      ]
     },
     "execution_count": 59,
     "metadata": {},
     "output_type": "execute_result"
    }
   ],
   "source": [
    "# 4. Write a function, that replaces all vowels in a string with a specified vowel.\n",
    "\n",
    "def vow_replace(a,b):\n",
    "    vow = ['a','e','i','o','u']\n",
    "    s =\"\"\n",
    "    for i in a:\n",
    "        if i in vow:\n",
    "            s += b\n",
    "        elif i not in vow:\n",
    "            s += i\n",
    "            \n",
    "    return s\n",
    "s1 = input(\"enter the string : \")\n",
    "s2 = input(\"enter ch to replace : \")\n",
    "vow_replace(s1,s2)\n"
   ]
  },
  {
   "cell_type": "code",
   "execution_count": 68,
   "id": "36ffe948",
   "metadata": {},
   "outputs": [
    {
     "name": "stdout",
     "output_type": "stream",
     "text": [
      "Enter string : to be or not to be\n"
     ]
    },
    {
     "data": {
      "text/plain": [
       "'To Be oR NoT To Be'"
      ]
     },
     "execution_count": 68,
     "metadata": {},
     "output_type": "execute_result"
    }
   ],
   "source": [
    "# 5.Create a function that takes a string as input and capitalizes a letter if its ASCII code is even and returns its lower case version if its ASCII code is odd.\n",
    "\n",
    "def ascii_capitalize(x):\n",
    "    s = \"\"\n",
    "    for i in x:\n",
    "        if ord(i)%2 ==0:\n",
    "            s += i.upper()\n",
    "        else:\n",
    "            s += i.lower()\n",
    "    \n",
    "    return s\n",
    "\n",
    "s = input(\"Enter string : \")\n",
    "ascii_capitalize(s)\n",
    "            "
   ]
  }
 ],
 "metadata": {
  "kernelspec": {
   "display_name": "Python 3 (ipykernel)",
   "language": "python",
   "name": "python3"
  },
  "language_info": {
   "codemirror_mode": {
    "name": "ipython",
    "version": 3
   },
   "file_extension": ".py",
   "mimetype": "text/x-python",
   "name": "python",
   "nbconvert_exporter": "python",
   "pygments_lexer": "ipython3",
   "version": "3.9.12"
  }
 },
 "nbformat": 4,
 "nbformat_minor": 5
}
