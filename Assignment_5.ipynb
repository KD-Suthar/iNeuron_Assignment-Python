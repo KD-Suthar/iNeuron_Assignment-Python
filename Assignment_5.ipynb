{
 "cells": [
  {
   "cell_type": "code",
   "execution_count": null,
   "id": "3882f296",
   "metadata": {},
   "outputs": [],
   "source": [
    "# 1. What does an empty dictionary&#39;s code look like?\n",
    "d = {}\n",
    "type(d)"
   ]
  },
  {
   "cell_type": "code",
   "execution_count": null,
   "id": "1d5d398f",
   "metadata": {},
   "outputs": [],
   "source": [
    "# 2. What is the value of a dictionary value with the key 'foo' and the value 42?\n",
    "d ={'foo' : 42}\n",
    "d['foo']"
   ]
  },
  {
   "cell_type": "code",
   "execution_count": null,
   "id": "662bf900",
   "metadata": {},
   "outputs": [],
   "source": [
    "# 3. What is the most significant distinction between a dictionary and a list?\n",
    "list elements are accessed bu index value \n",
    "dict elements are stored in key value pair and accessed by thier key."
   ]
  },
  {
   "cell_type": "code",
   "execution_count": null,
   "id": "a00fd6b8",
   "metadata": {},
   "outputs": [],
   "source": [
    "# 4. What happens if you try to access spam['foo'] if spam is {'bar': 100}?\n",
    "it returns keyError as the value doesn't exist frot this key"
   ]
  },
  {
   "cell_type": "code",
   "execution_count": null,
   "id": "7732a620",
   "metadata": {},
   "outputs": [],
   "source": [
    "# 5. If a dictionary is stored in spam, what is the difference between the expressions 'cat' in spam and 'cat' in spam.keys()?\n",
    "ans -> cat in spam will search the element in Key\n",
    "     spam.keys() will search the key valued as cat # there is no difference"
   ]
  },
  {
   "cell_type": "code",
   "execution_count": null,
   "id": "80db2fb1",
   "metadata": {},
   "outputs": [],
   "source": [
    "# 6. If a dictionary is stored in spam, what is the difference between the expressions 'cat' in spam and 'cat' in spam.values()?\n",
    "ans -> cat in spam will search the element in Key\n",
    "     spam.values() will search the value valued as cat "
   ]
  },
  {
   "cell_type": "code",
   "execution_count": null,
   "id": "97a23bb1",
   "metadata": {},
   "outputs": [],
   "source": [
    "# 7. What is a shortcut for the following code?\n",
    "#if 'color' not in spam:\n",
    "#spam['color'] = 'black'\n",
    "spam.setdefault('color','black')"
   ]
  },
  {
   "cell_type": "code",
   "execution_count": null,
   "id": "839e8e03",
   "metadata": {},
   "outputs": [],
   "source": [
    "# 8. How do you 'pretty print' dictionary values using which module and function?\n",
    "by using pprint module pprint.pprint(dict) function"
   ]
  }
 ],
 "metadata": {
  "kernelspec": {
   "display_name": "Python 3 (ipykernel)",
   "language": "python",
   "name": "python3"
  },
  "language_info": {
   "codemirror_mode": {
    "name": "ipython",
    "version": 3
   },
   "file_extension": ".py",
   "mimetype": "text/x-python",
   "name": "python",
   "nbconvert_exporter": "python",
   "pygments_lexer": "ipython3",
   "version": "3.9.12"
  }
 },
 "nbformat": 4,
 "nbformat_minor": 5
}
