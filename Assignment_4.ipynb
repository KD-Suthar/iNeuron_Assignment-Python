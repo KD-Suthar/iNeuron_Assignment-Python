{
 "cells": [
  {
   "cell_type": "code",
   "execution_count": null,
   "id": "846c389e",
   "metadata": {},
   "outputs": [],
   "source": [
    "# 1. What exactly is []?\n",
    "list"
   ]
  },
  {
   "cell_type": "code",
   "execution_count": null,
   "id": "a46b4ee1",
   "metadata": {},
   "outputs": [],
   "source": [
    "# 2. In a list of values stored in a variable called spam, how would you assign the value 'hello' as the third value? (Assume [2, 4, 6, 8, 10] are in spam.)\n",
    "spam = [2, 4, 6, 8, 10]\n",
    "spam.insert(2,'hello')\n",
    "print(spam)"
   ]
  },
  {
   "cell_type": "code",
   "execution_count": 2,
   "id": "5fe9a494",
   "metadata": {},
   "outputs": [],
   "source": [
    "spam =  ['a','b','c','d']\n",
    "\n",
    "# 3. What is the value of spam[int(int('3' * 2) / 11)]?\n",
    "spam[int(int('3'*2)/11)]\n",
    "int('3'*2) -> 33 -> int(33/11) -> spam[3] -> 'd'"
   ]
  },
  {
   "cell_type": "code",
   "execution_count": null,
   "id": "5036cada",
   "metadata": {},
   "outputs": [],
   "source": [
    "# 4. What is the value of spam[-1]?\n",
    "ans = 'd'"
   ]
  },
  {
   "cell_type": "code",
   "execution_count": 3,
   "id": "440147aa",
   "metadata": {},
   "outputs": [
    {
     "data": {
      "text/plain": [
       "['a', 'b']"
      ]
     },
     "execution_count": 3,
     "metadata": {},
     "output_type": "execute_result"
    }
   ],
   "source": [
    "# 5. What is the value of spam[:2]?\n",
    " ans = ['a','b']\n"
   ]
  },
  {
   "cell_type": "code",
   "execution_count": 5,
   "id": "dcd01034",
   "metadata": {},
   "outputs": [
    {
     "data": {
      "text/plain": [
       "1"
      ]
     },
     "execution_count": 5,
     "metadata": {},
     "output_type": "execute_result"
    }
   ],
   "source": [
    "# Let's pretend bacon has the list [3.14,'cat', 11, 'cat', True] for the next three questions.\n",
    "# 6. What is the value of bacon.index('cat')?\n",
    "ans = 1"
   ]
  },
  {
   "cell_type": "code",
   "execution_count": null,
   "id": "0ddddac6",
   "metadata": {},
   "outputs": [],
   "source": [
    "# 7. How does bacon.append(99) change the look of the list value in bacon?\n",
    "ans = [3.14,'cat', 11, 'cat', True, 99]"
   ]
  },
  {
   "cell_type": "code",
   "execution_count": 7,
   "id": "3edcc538",
   "metadata": {},
   "outputs": [
    {
     "data": {
      "text/plain": [
       "[3.14, 11, True]"
      ]
     },
     "execution_count": 7,
     "metadata": {},
     "output_type": "execute_result"
    }
   ],
   "source": [
    "# 8. How does bacon.remove('cat') change the look of the list in bacon?\n",
    "spam.remove('cat')\n",
    "ans: will remove all cat element from the list"
   ]
  },
  {
   "cell_type": "code",
   "execution_count": null,
   "id": "e00ae97c",
   "metadata": {},
   "outputs": [],
   "source": [
    "# 9. What are the list concatenation and list replication operators?\n",
    "concatination is -> '+'\n",
    "replication is  -> '*'"
   ]
  },
  {
   "cell_type": "code",
   "execution_count": null,
   "id": "f4eb0264",
   "metadata": {},
   "outputs": [],
   "source": [
    "# 10. What is difference between the list methods append() and insert()?\n",
    "append() -> it always append at the end of the list \n",
    "insert() -> insert will add a element in the list at the specified location list.insert(index.value)"
   ]
  },
  {
   "cell_type": "code",
   "execution_count": null,
   "id": "1edf7322",
   "metadata": {},
   "outputs": [],
   "source": [
    "# 11. What are the two methods for removing items from a list?\n",
    "pop() -> remove from the last\n",
    "remove() -> remove the specified element from  the list"
   ]
  },
  {
   "cell_type": "code",
   "execution_count": null,
   "id": "9ad078e5",
   "metadata": {},
   "outputs": [],
   "source": [
    "# 12. Describe how list values and string values are identical.\n",
    "both can be accessed in sequence"
   ]
  },
  {
   "cell_type": "code",
   "execution_count": null,
   "id": "a4d3317d",
   "metadata": {},
   "outputs": [],
   "source": [
    "# 13. What's the difference between tuples and lists?\n",
    "tuples are immutable but list are mutuable objects"
   ]
  },
  {
   "cell_type": "code",
   "execution_count": 10,
   "id": "c1a05d03",
   "metadata": {},
   "outputs": [
    {
     "data": {
      "text/plain": [
       "tuple"
      ]
     },
     "execution_count": 10,
     "metadata": {},
     "output_type": "execute_result"
    }
   ],
   "source": [
    "# 14. How do you type a tuple value that only contains the integer 42?\n",
    "s =(42,)\n",
    "type(s)"
   ]
  },
  {
   "cell_type": "code",
   "execution_count": null,
   "id": "171a51ef",
   "metadata": {},
   "outputs": [],
   "source": [
    "# 15. How do you get a list value's tuple form? How do you get a tuple value's list form?\n",
    "tup = ([1,2,3],[1,2,3,4,5])\n",
    "lis = [(1,2,3),(1,2,3,4,5)]"
   ]
  },
  {
   "cell_type": "code",
   "execution_count": null,
   "id": "57df81c3",
   "metadata": {},
   "outputs": [],
   "source": [
    "# 16. Variables that 'contain' list values are not necessarily lists themselves. Instead, what do they contain?\n",
    "they contain the reference of list values "
   ]
  },
  {
   "cell_type": "code",
   "execution_count": null,
   "id": "6715ee98",
   "metadata": {},
   "outputs": [],
   "source": [
    "# 17. How do you distinguish between copy.copy() and copy.deepcopy()?\n",
    "copy() -> creates the reference to original object\n",
    "deepcopy() -> creates a new object and copy"
   ]
  }
 ],
 "metadata": {
  "kernelspec": {
   "display_name": "Python 3 (ipykernel)",
   "language": "python",
   "name": "python3"
  },
  "language_info": {
   "codemirror_mode": {
    "name": "ipython",
    "version": 3
   },
   "file_extension": ".py",
   "mimetype": "text/x-python",
   "name": "python",
   "nbconvert_exporter": "python",
   "pygments_lexer": "ipython3",
   "version": "3.9.12"
  }
 },
 "nbformat": 4,
 "nbformat_minor": 5
}
