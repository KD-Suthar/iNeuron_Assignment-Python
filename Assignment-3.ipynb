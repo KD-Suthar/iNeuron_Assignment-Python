{
 "cells": [
  {
   "cell_type": "code",
   "execution_count": null,
   "id": "c6caa88f",
   "metadata": {},
   "outputs": [],
   "source": [
    "1. Why are functions advantageous to have in your programs?\n",
    "if there is some repetitive task or bloack of code which will be used throughtout out project execution for 100 times or more \n",
    "So, instead of writing it for mutiple times we can define a function and call it whenever needed\n",
    "it reduces the time and efforts of the programmer\n",
    "it helps in optimization of code too."
   ]
  },
  {
   "cell_type": "code",
   "execution_count": null,
   "id": "b61ddb22",
   "metadata": {},
   "outputs": [],
   "source": [
    "2. When does the code in a function run: when it's specified or when it's called?\n",
    "Function run whenever it is called."
   ]
  },
  {
   "cell_type": "code",
   "execution_count": null,
   "id": "6b552acb",
   "metadata": {},
   "outputs": [],
   "source": [
    "3. What statement creates a function?\n",
    "def functionName() :\n",
    "    #do Something \n",
    "    pass\n",
    "this is the basic structure of a function def defines the dunction def is termed as definition"
   ]
  },
  {
   "cell_type": "code",
   "execution_count": null,
   "id": "453288b3",
   "metadata": {},
   "outputs": [],
   "source": [
    "4. What is the difference between a function and a function call?\n",
    "a fucntion is a block of code that does some types of certain operations and give a result. it may or may not require to pass \n",
    "the parameters to function\n",
    "\n",
    "A function call is the code used to pass control to a function."
   ]
  },
  {
   "cell_type": "code",
   "execution_count": null,
   "id": "ddffdf10",
   "metadata": {},
   "outputs": [],
   "source": [
    "5. How many global scopes are there in a Python program? How many local scopes?\n",
    "there is only one global scope per program execution.\n",
    "local scopes are defiend inside a function and have access till that block they can be multiple."
   ]
  },
  {
   "cell_type": "code",
   "execution_count": null,
   "id": "80657789",
   "metadata": {},
   "outputs": [],
   "source": [
    "6. What happens to variables in a local scope when the function call returns?\n",
    "they are discarded from the memort and can't be accessed from outside of the scope of the function."
   ]
  },
  {
   "cell_type": "code",
   "execution_count": null,
   "id": "77c1247e",
   "metadata": {},
   "outputs": [],
   "source": [
    "7. What is the concept of a return value? Is it possible to have a return value in an expression?\n",
    "return statement ususally specifies the end of a function\n",
    "yes we can return a calue in an expression"
   ]
  },
  {
   "cell_type": "code",
   "execution_count": null,
   "id": "5628bae8",
   "metadata": {},
   "outputs": [],
   "source": [
    "8. If a function does not have a return statement, what is the return value of a call to that function?\n",
    "NoneType"
   ]
  },
  {
   "cell_type": "code",
   "execution_count": null,
   "id": "d2de1205",
   "metadata": {},
   "outputs": [],
   "source": [
    "9. How do you make a function variable refer to the global variable?\n",
    "by defining it as global"
   ]
  },
  {
   "cell_type": "code",
   "execution_count": null,
   "id": "c296496e",
   "metadata": {},
   "outputs": [],
   "source": [
    "10. What is the data type of None?\n",
    "none is a data of its own type NoneType"
   ]
  },
  {
   "cell_type": "code",
   "execution_count": null,
   "id": "7ccca10c",
   "metadata": {},
   "outputs": [],
   "source": [
    "11. What does the sentence import areallyourpetsnamederic do?\n",
    "it will import the librabry and its functions"
   ]
  },
  {
   "cell_type": "code",
   "execution_count": null,
   "id": "bf530dc9",
   "metadata": {},
   "outputs": [],
   "source": [
    "12. If you had a bacon() feature in a spam module, what would you call it after importing spam?\n",
    "import spam\n",
    "spam.bacon()"
   ]
  },
  {
   "cell_type": "code",
   "execution_count": null,
   "id": "3d7c824c",
   "metadata": {},
   "outputs": [],
   "source": [
    "13. What can you do to save a programme from crashing if it encounters an error?\n",
    "exceptional handling\n",
    "by using ty and except"
   ]
  },
  {
   "cell_type": "code",
   "execution_count": null,
   "id": "944e1c1c",
   "metadata": {},
   "outputs": [],
   "source": [
    "14. What is the purpose of the try clause? What is the purpose of the except clause?\n",
    "it lets u to excute a block of code for errors \n",
    "except block lets us to handle the error"
   ]
  }
 ],
 "metadata": {
  "kernelspec": {
   "display_name": "Python 3 (ipykernel)",
   "language": "python",
   "name": "python3"
  },
  "language_info": {
   "codemirror_mode": {
    "name": "ipython",
    "version": 3
   },
   "file_extension": ".py",
   "mimetype": "text/x-python",
   "name": "python",
   "nbconvert_exporter": "python",
   "pygments_lexer": "ipython3",
   "version": "3.9.12"
  }
 },
 "nbformat": 4,
 "nbformat_minor": 5
}
