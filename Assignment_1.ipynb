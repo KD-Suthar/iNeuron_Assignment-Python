{
 "cells": [
  {
   "cell_type": "code",
   "execution_count": null,
   "id": "b48b99fa",
   "metadata": {},
   "outputs": [],
   "source": [
    "1. In the below elements which of them are values or an expression? eg:- values can be\n",
    "integer or string and expressions will be mathematical operators.\n",
    "* -> expression\n",
    "'hello'-> String Value\n",
    "-87.8 -> flaot value\n",
    "- -> expression\n",
    "/ -> expression\n",
    "+ -> expression\n",
    "6 -> int value"
   ]
  },
  {
   "cell_type": "code",
   "execution_count": null,
   "id": "72eebeb8",
   "metadata": {},
   "outputs": [],
   "source": [
    "2. What is the difference between string and variable?\n",
    "Variable is used to store the information and String is a infromation.\n",
    "name = \"iNeuron\" -> represent a string\n",
    "Here Name is Variable \n",
    "iNeuron is a string "
   ]
  },
  {
   "cell_type": "code",
   "execution_count": null,
   "id": "afc90634",
   "metadata": {},
   "outputs": [],
   "source": [
    "3. Describe three different data types.\n",
    "Majorly 4 types os data types are there \n",
    "int -> represent the integer type\n",
    "string -> represent the String type\n",
    "float -> represent decimal values\n",
    "boolean -> stores True and False values"
   ]
  },
  {
   "cell_type": "code",
   "execution_count": null,
   "id": "372e1d71",
   "metadata": {},
   "outputs": [],
   "source": [
    "4. What is an expression made up of? What do all expressions do?\n",
    "an expresssion is made from two operand and some kind of operation is performed on them.\n",
    "a+b is an expression and expression do mathematical operation and show us results."
   ]
  },
  {
   "cell_type": "code",
   "execution_count": null,
   "id": "83b20f48",
   "metadata": {},
   "outputs": [],
   "source": [
    "5. This assignment statements, like spam = 10. What is the difference between an\n",
    "expression and a statement?\n",
    "an expression calculate and gives the result but he assignment statement store the values\n",
    "here spam is a int variable which has value of 10."
   ]
  },
  {
   "cell_type": "code",
   "execution_count": null,
   "id": "15324f87",
   "metadata": {},
   "outputs": [],
   "source": [
    "6. After running the following code, what does the variable bacon contain?\n",
    "bacon = 22\n",
    "bacon + 1\n",
    "\n",
    "23"
   ]
  },
  {
   "cell_type": "code",
   "execution_count": null,
   "id": "8d638982",
   "metadata": {},
   "outputs": [],
   "source": [
    "7. What should the values of the following two terms be?\n",
    "'spam' + 'spamspam'\n",
    "'spam'; * 3\n",
    "\n",
    "both will give same answer as 'spamspamspam'"
   ]
  },
  {
   "cell_type": "code",
   "execution_count": null,
   "id": "9b510082",
   "metadata": {},
   "outputs": [],
   "source": [
    "8. Why is eggs a valid variable name while 100 is invalid?\n",
    "\n",
    "100 is an int value and int value can't be used to define a variable name."
   ]
  },
  {
   "cell_type": "code",
   "execution_count": null,
   "id": "dd4b6004",
   "metadata": {},
   "outputs": [],
   "source": [
    "9. What three functions can be used to get the integer, floating-point number, or string\n",
    "version of a value?\n",
    "int()\n",
    "str()\n",
    "float()"
   ]
  },
  {
   "cell_type": "code",
   "execution_count": null,
   "id": "49ef97f2",
   "metadata": {},
   "outputs": [],
   "source": [
    "10. Why does this expression cause an error? How can you fix it?\n",
    "'I have eaten' + 99 +  'burritos.'\n",
    "\n",
    "Here we are trying to add string with integer value it will throw an exception named as TypeError."
   ]
  }
 ],
 "metadata": {
  "kernelspec": {
   "display_name": "Python 3 (ipykernel)",
   "language": "python",
   "name": "python3"
  },
  "language_info": {
   "codemirror_mode": {
    "name": "ipython",
    "version": 3
   },
   "file_extension": ".py",
   "mimetype": "text/x-python",
   "name": "python",
   "nbconvert_exporter": "python",
   "pygments_lexer": "ipython3",
   "version": "3.9.12"
  }
 },
 "nbformat": 4,
 "nbformat_minor": 5
}
